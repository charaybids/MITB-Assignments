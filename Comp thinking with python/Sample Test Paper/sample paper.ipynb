{
 "cells": [
  {
   "cell_type": "code",
   "execution_count": 1,
   "metadata": {},
   "outputs": [
    {
     "name": "stdout",
     "output_type": "stream",
     "text": [
      "165\n"
     ]
    }
   ],
   "source": [
    "a = 20\n",
    "for i in range(10,20):\n",
    "    a+=i\n",
    "print(a)"
   ]
  },
  {
   "cell_type": "code",
   "execution_count": 2,
   "metadata": {},
   "outputs": [
    {
     "name": "stdout",
     "output_type": "stream",
     "text": [
      "9\n"
     ]
    }
   ],
   "source": [
    "a = 'abcbcabacabccaabb'\n",
    "b = a.find('a', 8)\n",
    "print(b)"
   ]
  },
  {
   "cell_type": "code",
   "execution_count": 3,
   "metadata": {},
   "outputs": [
    {
     "name": "stdout",
     "output_type": "stream",
     "text": [
      "46\n"
     ]
    }
   ],
   "source": [
    "def _3nplus1(a):\n",
    "    return [3*i+1 if i%2 else i // 2 for i in a]\n",
    "    \n",
    "a =[1,2,3,5,7,8,9]\n",
    "for i in (4,6):\n",
    "    a = _3nplus1(a)\n",
    "a =sum(a)\n",
    "print(a)"
   ]
  },
  {
   "cell_type": "code",
   "execution_count": 4,
   "metadata": {},
   "outputs": [
    {
     "name": "stdout",
     "output_type": "stream",
     "text": [
      "['abe', 'ace']\n"
     ]
    }
   ],
   "source": [
    "import re\n",
    "p = re.compile(r'a[bcd*]e', re.M)\n",
    "match = p.findall('abe abbe acdde ace adbe acde')\n",
    "print(match)"
   ]
  },
  {
   "cell_type": "code",
   "execution_count": 8,
   "metadata": {},
   "outputs": [
    {
     "name": "stdout",
     "output_type": "stream",
     "text": [
      "\\\\d  with match None\n",
      "34202  with match None\n",
      "\\d  with match <re.Match object; span=(0, 1), match='3'>\n",
      "\\d?\\s?\\d*  with match <re.Match object; span=(0, 9), match='3 0624700'>\n"
     ]
    }
   ],
   "source": [
    "import re\n",
    "regexstring = [r'\\\\d', '34202', '\\\\d', r'\\d?\\s?\\d*']\n",
    "\n",
    "for i in regexstring:\n",
    "    p = re.compile(i, re.M)\n",
    "    mat = p.match('3 0624700 3 0624770 5 34202 13942 43140624')\n",
    "    print(i,\" with match\",mat)"
   ]
  },
  {
   "cell_type": "code",
   "execution_count": 9,
   "metadata": {},
   "outputs": [
    {
     "name": "stdout",
     "output_type": "stream",
     "text": [
      "2 [2, 3, 4, 5, 6, 7, 8, 9, 2, 3, 4, 5, 6, 7, 8, 9]\n"
     ]
    }
   ],
   "source": [
    "def count_and_remove(a,b):\n",
    "    count, i = 0, 0\n",
    "    while i < len(b):\n",
    "        if b[i] == a:\n",
    "            count += 1\n",
    "            b.pop(i)\n",
    "        else:\n",
    "            i += 1\n",
    "    return count,b\n",
    "\n",
    "b = [1,2,3,4,5,6,7,8,9,1,2,3,4,5,6,7,8,9]\n",
    "a = 1\n",
    "count, b = count_and_remove(a,b)\n",
    "print(count, b)"
   ]
  },
  {
   "cell_type": "code",
   "execution_count": 11,
   "metadata": {},
   "outputs": [
    {
     "name": "stdout",
     "output_type": "stream",
     "text": [
      "False\n"
     ]
    }
   ],
   "source": [
    "#given a calendar year this function returns true if it is a leap year and false otherwise\n",
    "\n",
    "def is_leap_year(year):\n",
    "    if year % 4 == 0:\n",
    "        return True\n",
    "    elif year % 100 == 0:\n",
    "        return False\n",
    "    elif year % 400 == 0:\n",
    "        return True\n",
    "    else:\n",
    "        return False\n",
    "    \n",
    "print(is_leap_year(2002))"
   ]
  },
  {
   "cell_type": "code",
   "execution_count": 1,
   "metadata": {},
   "outputs": [
    {
     "name": "stdout",
     "output_type": "stream",
     "text": [
      "4\n"
     ]
    }
   ],
   "source": [
    "#binary search for Sq roots\n",
    "\n",
    "num = 16\n",
    "\n",
    "def sqrt(num):\n",
    "    low = 0\n",
    "    high = num\n",
    "    while low <= high:\n",
    "        mid = (low + high) // 2\n",
    "        if mid * mid == num:\n",
    "            return mid\n",
    "        elif mid * mid < num:\n",
    "            low = mid + 1\n",
    "        else:\n",
    "            high = mid - 1\n",
    "    return high\n",
    "\n",
    "print(sqrt(num))"
   ]
  },
  {
   "cell_type": "code",
   "execution_count": 9,
   "metadata": {},
   "outputs": [
    {
     "name": "stdout",
     "output_type": "stream",
     "text": [
      "for regex r'a[ab]*c' found ['ac', 'abc', 'aac', 'aabc', 'aaac', 'ababc']\n",
      "for regex r'a[ab]+c' found ['abc', 'aac', 'aabc', 'aaac', 'ababc']\n",
      "for regex a[ab]?c found ['ac', 'abc', 'aac', 'abc', 'aac', 'abc']\n",
      "for regex \\w{3} found ['abc', 'aac', 'aab', 'aaa', 'aba']\n",
      "for regex \\w{2,3} found ['ab', 'ac', 'abc', 'aac', 'aab', 'aaa', 'aba', 'bc']\n"
     ]
    },
    {
     "name": "stderr",
     "output_type": "stream",
     "text": [
      "<>:19: SyntaxWarning: invalid escape sequence '\\w'\n",
      "<>:23: SyntaxWarning: invalid escape sequence '\\w'\n",
      "<>:19: SyntaxWarning: invalid escape sequence '\\w'\n",
      "<>:23: SyntaxWarning: invalid escape sequence '\\w'\n",
      "C:\\Users\\tin87\\AppData\\Local\\Temp\\ipykernel_48148\\1477014401.py:19: SyntaxWarning: invalid escape sequence '\\w'\n",
      "  print(\"for regex \\w{3} found\",m)\n",
      "C:\\Users\\tin87\\AppData\\Local\\Temp\\ipykernel_48148\\1477014401.py:23: SyntaxWarning: invalid escape sequence '\\w'\n",
      "  print(\"for regex \\w{2,3} found\",m)\n"
     ]
    }
   ],
   "source": [
    "import re\n",
    "\n",
    "text = 'a ab ac abc aac aabc aaac ababc'\n",
    "\n",
    "p = re.compile(r'a[ab]*c')\n",
    "m = p.findall(text)\n",
    "print(\"for regex r'a[ab]*c' found\", m)\n",
    "\n",
    "p = re.compile(r'a[ab]+c')\n",
    "m = p.findall(text)\n",
    "print(\"for regex\",\"r'a[ab]+c'\",\"found\",m)\n",
    "\n",
    "p = re.compile(r'a[ab]?c')\n",
    "m = p.findall(text)\n",
    "print(\"for regex a[ab]?c found\",m)\n",
    "\n",
    "p = re.compile(r'\\w{3}')\n",
    "m = p.findall(text)\n",
    "print(\"for regex \\w{3} found\",m)\n",
    "\n",
    "p = re.compile(r'\\w{2,3}')\n",
    "m = p.findall(text)\n",
    "print(\"for regex \\w{2,3} found\",m)"
   ]
  }
 ],
 "metadata": {
  "kernelspec": {
   "display_name": "Python 3",
   "language": "python",
   "name": "python3"
  },
  "language_info": {
   "codemirror_mode": {
    "name": "ipython",
    "version": 3
   },
   "file_extension": ".py",
   "mimetype": "text/x-python",
   "name": "python",
   "nbconvert_exporter": "python",
   "pygments_lexer": "ipython3",
   "version": "3.12.7"
  }
 },
 "nbformat": 4,
 "nbformat_minor": 2
}
