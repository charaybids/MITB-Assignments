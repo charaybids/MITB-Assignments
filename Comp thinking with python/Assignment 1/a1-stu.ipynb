{
 "cells": [
  {
   "cell_type": "markdown",
   "id": "43bea575",
   "metadata": {},
   "source": [
    "# Assignment 1"
   ]
  },
  {
   "cell_type": "markdown",
   "id": "6de8437e",
   "metadata": {},
   "source": [
    "The given code, including the class name, function name and function parameters, is not allowed to make change to. <br>\n",
    "Please write your code in the lines of a code cell according to the instructions given in the comments. If your code is written in other places (cells, lines), it will not be captured by the grader and could cause error or wrong answer when running."
   ]
  },
  {
   "cell_type": "markdown",
   "id": "531b93ee",
   "metadata": {},
   "source": [
    "## Question 1"
   ]
  },
  {
   "cell_type": "code",
   "execution_count": 140,
   "id": "df6ede39",
   "metadata": {},
   "outputs": [],
   "source": [
    "class Q1:\n",
    "    def eval(self, x, va, vb):\n",
    "        #x = hours\n",
    "        #va, vb = speed of a and b\n",
    "            \n",
    "        count = 0\n",
    "        posA = x\n",
    "        posB = 0\n",
    "                    \n",
    "        while not (posA == posB):\n",
    "            posB += vb\n",
    "            posA += va\n",
    "            count += 1    \n",
    "\n",
    "        return count"
   ]
  },
  {
   "cell_type": "markdown",
   "id": "158e0976",
   "metadata": {},
   "source": []
  },
  {
   "cell_type": "markdown",
   "id": "13bf8243",
   "metadata": {},
   "source": [
    "## Question 2"
   ]
  },
  {
   "cell_type": "code",
   "execution_count": 141,
   "id": "405ec2d7",
   "metadata": {},
   "outputs": [],
   "source": [
    "class Q2:\n",
    "    def sort_the_integer(self, input_ls):\n",
    "        \n",
    "        flat_ls = []\n",
    "       \n",
    "        for element in input_ls:\n",
    "            if isinstance(element, list):\n",
    "                flat_ls.extend(self.sort_the_integer(element))\n",
    "            else:\n",
    "                if element is not None:\n",
    "                    flat_ls.append(element)\n",
    "        \n",
    "        flat_ls.sort()         \n",
    "                 \n",
    "        return flat_ls\n",
    "\n",
    "       \n",
    "    def eval(self, input_ls):\n",
    "        \n",
    "        if not input_ls or len(input_ls) == 1: return input_ls\n",
    "        \n",
    "        if input_ls[1] == None: return input_ls\n",
    "        \n",
    "        flat_ls = []\n",
    "        sorted_ls = []\n",
    "        \n",
    "        def flatten_list(nested_list):\n",
    "            for element in nested_list:\n",
    "                if isinstance(element, list):\n",
    "                    flatten_list(element)\n",
    "                else:\n",
    "                    flat_ls.append(element)\n",
    "        \n",
    "        flatten_list(input_ls)\n",
    "              \n",
    "        flat_ls.sort(key=lambda x: (x is None, x))\n",
    "        \n",
    "        firstlist = [flat_ls[-2],flat_ls[-1]]\n",
    "        templist = []\n",
    "   \n",
    "        for value in reversed(flat_ls):\n",
    "                                   \n",
    "            if len(sorted_ls) < 2:\n",
    "                sorted_ls.insert(0,value)\n",
    "                \n",
    "            elif sorted_ls == firstlist:\n",
    "                \n",
    "                for index, item in enumerate(sorted_ls):\n",
    "                    templist.append(sorted_ls[index])\n",
    "                    \n",
    "                sorted_ls.clear()\n",
    "                sorted_ls.insert(0,templist)\n",
    "                sorted_ls.insert(0, value)\n",
    "                \n",
    "            else:\n",
    "                recurTempList = []\n",
    "                \n",
    "                for index, item in enumerate(sorted_ls):\n",
    "                    recurTempList.append(sorted_ls[index])\n",
    "                \n",
    "                sorted_ls.clear()    \n",
    "                sorted_ls.insert(0,recurTempList)\n",
    "                sorted_ls.insert(0, value)\n",
    "                            \n",
    "        return sorted_ls\n"
   ]
  },
  {
   "cell_type": "code",
   "execution_count": 142,
   "id": "d93c919d-92f1-4c1a-ad03-505ea57819ad",
   "metadata": {},
   "outputs": [
    {
     "data": {
      "text/plain": [
       "[1, 2, 3]"
      ]
     },
     "execution_count": 142,
     "metadata": {},
     "output_type": "execute_result"
    }
   ],
   "source": [
    "Q2().sort_the_integer([3, [2, [1, None]]])"
   ]
  },
  {
   "cell_type": "code",
   "execution_count": 143,
   "id": "efd4e5db-c05d-49ac-bcfe-5f24441cd8f2",
   "metadata": {},
   "outputs": [
    {
     "data": {
      "text/plain": [
       "[1, [2, [3, None]]]"
      ]
     },
     "execution_count": 143,
     "metadata": {},
     "output_type": "execute_result"
    }
   ],
   "source": [
    "Q2().eval([3, [2, [1, None]]])"
   ]
  },
  {
   "cell_type": "markdown",
   "id": "6d354e2d",
   "metadata": {},
   "source": [
    "## Question 3"
   ]
  },
  {
   "cell_type": "code",
   "execution_count": 1,
   "id": "6cbe15eb",
   "metadata": {},
   "outputs": [],
   "source": [
    "class Q3:\n",
    "    \n",
    "    def order(self, words):\n",
    "        # Write a one-line lambda expression to do step 1.\n",
    "       return sorted(words, key=lambda word: (word[1], len(word)))\n",
    "    \n",
    "    def to_int(self, words):\n",
    "        # Write a one-line list comprehension to do step 2 to 4 (inclusively).\n",
    "        wordScore = []\n",
    "        orderedWords = self.order(words)\n",
    "        wordScore = [((len(word) - 2) * -1) if word.startswith('s') else (len(word) - 2) for word in orderedWords]\n",
    "        #[(len(word) - 2) * -1 * (2 * (word[0] == 's') - 1) for word in orderedWords]\n",
    "        return wordScore\n",
    "        \n",
    "    def eval(self, words):\n",
    "        words = self.order(words)\n",
    "        scores = self.to_int(words)\n",
    "        result = ''\n",
    "        \n",
    "        max_score = max(abs(score) for score in scores)\n",
    "        for i, score in enumerate(scores):\n",
    "            if score == 0:\n",
    "                result += f'{i}  |\\n'\n",
    "            elif score < 0:\n",
    "                result += f'{i}{\" \" if abs(score) == 1 else \"\"}{\"=\" * abs(score)}|\\n'\n",
    "            else:\n",
    "                result += f'{i}{\"  \" * (max_score - score + 1)}|{\"=\" * score}\\n'\n",
    "        \n",
    "        return result"
   ]
  },
  {
   "cell_type": "code",
   "execution_count": 4,
   "id": "99b98439-bd37-4899-a5c3-712ce0c23f4c",
   "metadata": {},
   "outputs": [
    {
     "name": "stdout",
     "output_type": "stream",
     "text": [
      "['set', 'seek', 'grade', 'it']\n",
      "[-1, -2, 3, 0]\n",
      "0 =|\n",
      "1==|\n",
      "2  |===\n",
      "3  |\n",
      "\n"
     ]
    }
   ],
   "source": [
    "print(Q3().order(['it', 'seek', 'set', 'grade']))\n",
    "print(Q3().to_int(['it', 'set', 'seek', 'grade']))\n",
    "print(Q3().eval(['it', 'set', 'seek', 'grade']))\n"
   ]
  },
  {
   "cell_type": "markdown",
   "id": "4e26d448",
   "metadata": {},
   "source": [
    "## Question 4"
   ]
  },
  {
   "cell_type": "code",
   "execution_count": 146,
   "id": "e0a4f202",
   "metadata": {},
   "outputs": [],
   "source": [
    "class Q4:\n",
    "    def eval(self, date_range):\n",
    "        start_date, end_date = date_range.split()\n",
    "        \n",
    "        start_day, start_month, start_year = map(int, start_date.split('/'))\n",
    "        end_day, end_month, end_year = map(int, end_date.split('/'))\n",
    "        \n",
    "        palindromic_times = \"\"\n",
    "        \n",
    "        # Helper function to check for leap year\n",
    "        def is_leap_year(year):\n",
    "            return year % 4 == 0 and (year % 100 != 0 or year % 400 == 0)\n",
    "        \n",
    "        # Helper function to get the number of days in a month\n",
    "        def days_in_month(month, year):\n",
    "            if month in [4, 6, 9, 11]:\n",
    "                return 30\n",
    "            elif month == 2:\n",
    "                return 29 if is_leap_year(year) else 28\n",
    "            else:\n",
    "                return 31\n",
    "        \n",
    "        # Helper function to increment the date\n",
    "        def increment_date(day, month, year):\n",
    "            day += 1\n",
    "            if day > days_in_month(month, year):\n",
    "                day = 1\n",
    "                month += 1\n",
    "                if month > 12:\n",
    "                    month = 1\n",
    "                    year += 1\n",
    "            return day, month, year\n",
    "        \n",
    "        # Helper function to compare dates\n",
    "        def is_before_or_equal(day1, month1, year1, day2, month2, year2):\n",
    "            if year1 < year2:\n",
    "                return True\n",
    "            if year1 == year2:\n",
    "                if month1 < month2:\n",
    "                    return True\n",
    "                if month1 == month2:\n",
    "                    if day1 <= day2:\n",
    "                        return True\n",
    "            return False\n",
    "        \n",
    "        # Iterate through each day in the date range\n",
    "        current_day, current_month, current_year = start_day, start_month, start_year\n",
    "        while is_before_or_equal(current_day, current_month, current_year, end_day, end_month, end_year):\n",
    "            # Iterate through each minute of the day\n",
    "            for hour in range(24):\n",
    "                for minute in range(60):\n",
    "                    formatted_time = \"{:02d}:{:02d}:{:02d}:{:02d}\".format(\n",
    "                        current_month, current_day, hour, minute)\n",
    "                    # Check if the formatted string is a palindrome\n",
    "                    if formatted_time == formatted_time[::-1]:\n",
    "                        palindromic_times += formatted_time + \"\\n\"\n",
    "            current_day, current_month, current_year = increment_date(current_day, current_month, current_year)\n",
    "        \n",
    "        return palindromic_times"
   ]
  },
  {
   "cell_type": "code",
   "execution_count": 147,
   "id": "b17a7ad2-4787-4e6d-bbd3-0db2bb563e93",
   "metadata": {},
   "outputs": [
    {
     "name": "stdout",
     "output_type": "stream",
     "text": [
      "12:10:01:21\n",
      "12:11:11:21\n",
      "12:12:21:21\n",
      "12:20:02:21\n",
      "12:21:12:21\n",
      "12:22:22:21\n",
      "12:30:03:21\n",
      "12:31:13:21\n",
      "01:01:10:10\n",
      "01:02:20:10\n",
      "\n"
     ]
    }
   ],
   "source": [
    "res = Q4().eval(\"10/12/2024 07/01/2025\")\n",
    "print(res)"
   ]
  },
  {
   "cell_type": "markdown",
   "id": "0e71cfd2-987a-425d-8aca-2fe00492a52e",
   "metadata": {},
   "source": [
    "## Question 5"
   ]
  },
  {
   "cell_type": "code",
   "execution_count": 1,
   "id": "e05f7d83-5d4d-4763-a9ed-ecc759e45c10",
   "metadata": {},
   "outputs": [],
   "source": [
    "class Q5:\n",
    "    def eval(self, n):\n",
    "        #return ['\\n o \\n','  o\\n   \\no  ','  o\\n o \\no  ','o o\\n   \\no o','o o\\n o \\no o','o o\\no o\\no o'][n-1]\n",
    "        return\" O\"[n>3]+\" \"+\" O\"[n>1]+\"\\n\"+\" O\"[n>5]+\" O\"[n%2]+\" O\"[n>5]+\"\\n\"+\" O\"[n>1]+\" \"+\" O\"[n>3]"
   ]
  },
  {
   "cell_type": "code",
   "execution_count": 149,
   "id": "a2407f44-42ef-4f65-b3c3-0eb8ef8bbe94",
   "metadata": {},
   "outputs": [
    {
     "data": {
      "text/plain": [
       "84"
      ]
     },
     "execution_count": 149,
     "metadata": {},
     "output_type": "execute_result"
    }
   ],
   "source": [
    "# replace the underline with your solution\n",
    "len(\"['\\n o \\n','  o\\n   \\no  ','  o\\n o \\no  ','o o\\n   \\no o','o o\\n o \\no o','o o\\no o\\no o'][n-1]\")"
   ]
  },
  {
   "cell_type": "code",
   "execution_count": 2,
   "id": "26e71445-14a6-4566-be02-4a4062f987be",
   "metadata": {},
   "outputs": [
    {
     "name": "stdout",
     "output_type": "stream",
     "text": [
      "i = 1\n",
      "   \n",
      " O \n",
      "   \n",
      "----------\n",
      "i = 2\n",
      "  O\n",
      "   \n",
      "O  \n",
      "----------\n",
      "i = 3\n",
      "  O\n",
      " O \n",
      "O  \n",
      "----------\n",
      "i = 4\n",
      "O O\n",
      "   \n",
      "O O\n",
      "----------\n",
      "i = 5\n",
      "O O\n",
      " O \n",
      "O O\n",
      "----------\n",
      "i = 6\n",
      "O O\n",
      "O O\n",
      "O O\n",
      "----------\n"
     ]
    }
   ],
   "source": [
    "for i in range(1,7):\n",
    "    print(\"i =\", str(i))\n",
    "    print(Q5().eval(i))\n",
    "    print(\"----------\")"
   ]
  },
  {
   "cell_type": "code",
   "execution_count": null,
   "id": "ceb58d7b-27b9-4fab-9525-1152d6a54122",
   "metadata": {},
   "outputs": [],
   "source": []
  },
  {
   "cell_type": "code",
   "execution_count": null,
   "id": "d6eb0e82-d00a-4549-93db-011408f04d06",
   "metadata": {},
   "outputs": [],
   "source": []
  },
  {
   "cell_type": "code",
   "execution_count": null,
   "id": "8485ca6f-2aea-49ba-a4a3-e8c1d6dc81b1",
   "metadata": {},
   "outputs": [],
   "source": []
  },
  {
   "cell_type": "code",
   "execution_count": null,
   "id": "4c306225-d0be-4185-b04b-4121a31eb58f",
   "metadata": {},
   "outputs": [],
   "source": []
  },
  {
   "cell_type": "code",
   "execution_count": null,
   "id": "cf7a0d42-3026-44bb-93fb-5cc6f9e68678",
   "metadata": {},
   "outputs": [],
   "source": []
  },
  {
   "cell_type": "markdown",
   "id": "7fad45af",
   "metadata": {},
   "source": [
    "## Feedback"
   ]
  },
  {
   "cell_type": "code",
   "execution_count": 151,
   "id": "c069bdc8",
   "metadata": {},
   "outputs": [],
   "source": [
    "with open('Feedback.txt', 'w') as f:\n",
    "    score = [0] * 5\n",
    "    \n",
    "    f.write('Q1')\n",
    "    f.write('\\n')\n",
    "    if Q1().eval(2, 1, 2) == 2:\n",
    "        score[0] += 2\n",
    "        f.write('[2/2] Sample case correct.')\n",
    "    else:\n",
    "        f.write('[0/2] Sample case wrong.')\n",
    "    f.write('\\n')\n",
    "\n",
    "    f.write('Score for Q1: ' + str(score[0]) + '\\n')\n",
    "    \n",
    "    f.write('Q2')\n",
    "    f.write('\\n')\n",
    "\n",
    "    try:\n",
    "        if Q2().sort_the_integer([3, [2, [1, None]]]) == [1, 2, 3]:\n",
    "            score[1] += 1\n",
    "            f.write('[1/1] Function sort_the_integer for sample case correct.')\n",
    "        else:\n",
    "            f.write('[0/1] Function sort_the_integer for sample case wrong.')\n",
    "    except:\n",
    "        f.write('[0/1] Error running Q2().sort_the_integer with sample case')\n",
    "    f.write('\\n')\n",
    "\n",
    "    try:\n",
    "        if Q2().eval([3, [2, [1, None]]]) == [1, [2, [3, None]]]:\n",
    "            score[1] += 2\n",
    "            f.write('[2/2] Sample case correct.')\n",
    "        else:\n",
    "            f.write('[0/2] Sample case wrong.')\n",
    "    except:\n",
    "        f.write('[0/2] Error running Q2().eval with sample case')\n",
    "    f.write('\\n')\n",
    "    \n",
    "    f.write('\\n')\n",
    "    f.write('Score for Q2: ' + str(score[1]) + '\\n')\n",
    "    \n",
    "    f.write('Q3')\n",
    "    f.write('\\n')\n",
    "    if Q3().order(['it', 'set', 'seek', 'grade']) == ['set', 'seek', 'grade', 'it']:\n",
    "        score[2] += 2\n",
    "        f.write('[2/2] Function order for sample case correct.')\n",
    "    else:\n",
    "        f.write('[0/2] Function order for sample case wrong.')\n",
    "    f.write('\\n')\n",
    "    \n",
    "    if Q3().to_int(['it', 'set', 'seek', 'grade']) == [-1, -2, 3, 0]:\n",
    "        score[2] += 2\n",
    "        f.write('[2/2] Function to_int for sample case correct.')\n",
    "    else:\n",
    "        f.write('[0/2] Function to_int for sample casewrong.')\n",
    "    f.write('\\n')\n",
    "    \n",
    "    try:\n",
    "        if Q3().eval(['it', 'set', 'seek', 'grade']) == '0 =|\\n1==|\\n2  |===\\n3  |\\n':\n",
    "            score[2] += 2\n",
    "            f.write('[2/2] Sample case correct.')\n",
    "        else:\n",
    "            f.write('[0/2] Sample case wrong.')\n",
    "    except:\n",
    "        f.write('[0/2] Error running Q3().eval with sample case')\n",
    "    f.write('\\n')\n",
    "    \n",
    "    f.write('Score for Q3: ' + str(score[2]) + '\\n')\n",
    "    \n",
    "    f.write('Q4')\n",
    "    f.write('\\n')\n",
    "    \n",
    "    try:\n",
    "        if Q4().eval(\"10/12/2024 07/01/2025\") == '12:10:01:21\\n12:11:11:21\\n12:12:21:21\\n12:20:02:21\\n12:21:12:21\\n12:22:22:21\\n12:30:03:21\\n12:31:13:21\\n01:01:10:10\\n01:02:20:10\\n':\n",
    "            score[3] += 2\n",
    "            f.write('[2/2] Sample case correct.')\n",
    "        else:\n",
    "            f.write('[0/2] Sample case wrong.')\n",
    "    except:\n",
    "        f.write('[0/2] Error running Q4().eval with sample case')\n",
    "    f.write('\\n')\n",
    "\n",
    "    f.write('Score for Q4: ' + str(score[3]) + '\\n')\n",
    "\n",
    "    f.write('Q5')\n",
    "    f.write('\\n')\n",
    "    Q5_out = ['   \\n o \\n   ',  '  o\\n   \\no  ', '  o\\n o \\no  ', 'o o\\n   \\no o', 'o o\\n o \\no o', 'o o\\no o\\no o']\n",
    "    for i in range(6):\n",
    "        try:\n",
    "            if Q5().eval(i + 1) == Q5_out[i]:\n",
    "                score[4] += 0.5\n",
    "                f.write('[0.5/0.5] i = ' + str(i + 1) + ' correct.')\n",
    "            else:\n",
    "                f.write('[0/0.5] i = ' + str(i + 1) + ' wrong.')\n",
    "        except:\n",
    "            f.write('[0/0.5] Error running Q5().eval with i =' + str(i + 1))\n",
    "        f.write('\\n')\n",
    "        \n",
    "    f.write('\\n')\n",
    "    # The highest mark you can get at this stage is 16.\n",
    "    f.write('Total Score: ' + str(sum(score)))"
   ]
  }
 ],
 "metadata": {
  "kernelspec": {
   "display_name": "Python 3",
   "language": "python",
   "name": "python3"
  },
  "language_info": {
   "codemirror_mode": {
    "name": "ipython",
    "version": 3
   },
   "file_extension": ".py",
   "mimetype": "text/x-python",
   "name": "python",
   "nbconvert_exporter": "python",
   "pygments_lexer": "ipython3",
   "version": "3.11.9"
  }
 },
 "nbformat": 4,
 "nbformat_minor": 5
}
