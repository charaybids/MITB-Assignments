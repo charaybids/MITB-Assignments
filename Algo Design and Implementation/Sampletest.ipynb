{
 "cells": [
  {
   "cell_type": "code",
   "execution_count": 1,
   "metadata": {},
   "outputs": [
    {
     "name": "stdout",
     "output_type": "stream",
     "text": [
      "1\n"
     ]
    }
   ],
   "source": [
    "'''\n",
    "def find_combinations_dp(n, coins):\n",
    "    coins.sort()\n",
    "    memo = {}\n",
    "\n",
    "    def backtrack(remaining, start):\n",
    "        if remaining == 0:\n",
    "            return [[]]\n",
    "        if (remaining, start) in memo:\n",
    "            return memo[(remaining, start)]\n",
    "        combinations = []\n",
    "        for i in range(start, len(coins)):\n",
    "            coin = coins[i]\n",
    "            if coin > remaining:\n",
    "                break\n",
    "            for combo in backtrack(remaining - coin, i):\n",
    "                combinations.append([coin] + combo)\n",
    "        memo[(remaining, start)] = combinations\n",
    "        return combinations\n",
    "\n",
    "    return backtrack(n, 0)\n",
    "'''\n",
    "def find_combinations_dp(n, coins):\n",
    "    coins.sort(reverse=True)\n",
    "    ways = 0\n",
    "\n",
    "    for coin in coins:\n",
    "        \n",
    "        while n >= coin:\n",
    "            n -= coin\n",
    "            \n",
    "            if n == 0:\n",
    "                ways += 1\n",
    "        \n",
    "    return ways\n",
    "\n",
    "# Example usage:\n",
    "if __name__ == \"__main__\":\n",
    "    n = 6\n",
    "    coins = [1, 2, 3]\n",
    "    combinations = find_combinations_dp(n, coins)\n",
    "    print(combinations)\n",
    "    # Output:\n",
    "    # [1, 1, 1, 1, 1, 1, 1]\n",
    "    # [1, 1, 1, 1, 1, 2]\n",
    "    # [1, 1, 1, 2, 2]\n",
    "    # [1, 2, 2, 2]\n",
    "    # [1, 1, 5]\n",
    "    # [2, 5]"
   ]
  },
  {
   "cell_type": "code",
   "execution_count": 2,
   "metadata": {},
   "outputs": [
    {
     "name": "stdout",
     "output_type": "stream",
     "text": [
      "best collection: [1, 5]\n"
     ]
    }
   ],
   "source": [
    "w = [1, 3, 7, 10, 14, 19] \n",
    "v = [10, 40, 80, 100, 200, 350] \n",
    "n, L = len(w), 22 \n",
    "r = [0] * n \n",
    "best_collection, curr_best = 0, 0 \n",
    " \n",
    "def f(m, p, q, s, t): \n",
    "    global w, v, n, L, r, best_collection, curr_best \n",
    "    if q == m: \n",
    "        if t >= curr_best: \n",
    "            best_collection = r[:m].copy() \n",
    "            curr_best = t \n",
    "    else: \n",
    "        for i in range(p, n - m + q + 1): \n",
    "            if s + w[i] <= L: \n",
    "                r[q] = i \n",
    "                if t + v[i] >= curr_best: \n",
    "                    best_collection = r[:q+1].copy() \n",
    "                    curr_best = t + v[i] \n",
    "                f(m, i+1, q+1, s + w[i], t + v[i]) \n",
    " \n",
    "for i in range(1, n+1): \n",
    "    f(i, 0, 0, 0, 0) \n",
    " \n",
    "print('best collection:', best_collection)"
   ]
  },
  {
   "cell_type": "code",
   "execution_count": 10,
   "metadata": {},
   "outputs": [
    {
     "name": "stdout",
     "output_type": "stream",
     "text": [
      "The lucky astronaut is at position 2.\n"
     ]
    }
   ],
   "source": [
    "def findLuckyAstronaut(n, m):\n",
    "    if n == 1:\n",
    "        return 0\n",
    "    else:\n",
    "        return (findLuckyAstronaut(n - 1, m) + m) % n\n",
    "\n",
    "# Example usage:\n",
    "# n = 8, m = 5\n",
    "lucky = findLuckyAstronaut(8, 5)\n",
    "print(f\"The lucky astronaut is at position {lucky}.\")"
   ]
  },
  {
   "cell_type": "code",
   "execution_count": null,
   "metadata": {},
   "outputs": [],
   "source": [
    "import math\n",
    "\n",
    "def len_of_left_side(n):\n",
    "    if n == 0:\n",
    "        return 0, 0\n",
    "    b = math.floor(math.log2(n+1))\n",
    "    size_left = min(2 ** b - 1,\n",
    "                    n - 2 ** (b-1) + 1)\n",
    "    return size_left\n",
    "\n",
    "def incr_size(lvl, size, remain):\n",
    "    if remain > 2 ** lvl:\n",
    "        return size + 2 ** lvl, remain - 2 ** lvl\n",
    "    else:\n",
    "        return size + remain, 0\n",
    "\n",
    "def len_of_left_side(n):\n",
    "    size_left, size_right = 0, 0\n",
    "    i, rem = 0, n\n",
    "    while rem > 0:\n",
    "        size_left, rem = incr_size(i, size_left, rem)\n",
    "        size_right, rem = incr_size(i, size_right, rem)\n",
    "        i += 1\n",
    "    return size_left\n",
    "\n"
   ]
  }
 ],
 "metadata": {
  "kernelspec": {
   "display_name": "Python 3",
   "language": "python",
   "name": "python3"
  },
  "language_info": {
   "codemirror_mode": {
    "name": "ipython",
    "version": 3
   },
   "file_extension": ".py",
   "mimetype": "text/x-python",
   "name": "python",
   "nbconvert_exporter": "python",
   "pygments_lexer": "ipython3",
   "version": "3.12.7"
  }
 },
 "nbformat": 4,
 "nbformat_minor": 2
}
